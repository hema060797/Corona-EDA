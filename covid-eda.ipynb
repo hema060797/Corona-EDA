{
 "cells": [
  {
   "cell_type": "markdown",
   "metadata": {},
   "source": [
    "Infectious diseases such as H1N1,SARS and most recent;y the covid-19 virus continue to pose a global threat. Currently the world is witnessing a coronavirus pandemic that has affected almost every country on the planet.\n",
    "will perform exploratory data analysis on a cornavirus dataset"
   ]
  },
  {
   "cell_type": "code",
   "execution_count": 1,
   "metadata": {},
   "outputs": [],
   "source": [
    "#importing libraries \n",
    "#The requests library allows sending HTTP requests through Python,which will be used to obtain the dataset from the internet\n",
    "#pandas is a open-source Python library that provides powerful data structures and data analysis tool to deal with datasets.\n",
    "#matplotlib.pyplot and seaborn is packages for Python are the most popular and used packages for data visulaization through Python\n",
    "import pandas as pd\n",
    "import requests\n",
    "import matplotlib.pyplot\n",
    "import seaborn as sns"
   ]
  },
  {
   "cell_type": "markdown",
   "metadata": {},
   "source": [
    "getting data from ourworldindata.org using requests"
   ]
  },
  {
   "cell_type": "code",
   "execution_count": 2,
   "metadata": {},
   "outputs": [],
   "source": [
    "filename='covid-data.csv'\n",
    "data_url='https://covid.ourworldindata.org/data/owid-covid-data.csv'\n",
    "dataset=requests.get(data_url).content\n",
    "df=open(filename,'wb')\n",
    "df.write(dataset)\n",
    "df.close()"
   ]
  },
  {
   "cell_type": "markdown",
   "metadata": {},
   "source": [
    "Thus loading a dataset into pandas dataframe object "
   ]
  },
  {
   "cell_type": "code",
   "execution_count": 11,
   "metadata": {},
   "outputs": [
    {
     "name": "stdout",
     "output_type": "stream",
     "text": [
      "Index(['iso_code', 'continent', 'location', 'date', 'total_cases', 'new_cases',\n",
      "       'total_deaths', 'new_deaths', 'total_cases_per_million',\n",
      "       'new_cases_per_million', 'total_deaths_per_million',\n",
      "       'new_deaths_per_million', 'total_tests', 'new_tests',\n",
      "       'total_tests_per_thousand', 'new_tests_per_thousand',\n",
      "       'new_tests_smoothed', 'new_tests_smoothed_per_thousand', 'tests_units',\n",
      "       'stringency_index', 'population', 'population_density', 'median_age',\n",
      "       'aged_65_older', 'aged_70_older', 'gdp_per_capita', 'extreme_poverty',\n",
      "       'cvd_death_rate', 'diabetes_prevalence', 'female_smokers',\n",
      "       'male_smokers', 'handwashing_facilities', 'hospital_beds_per_thousand'],\n",
      "      dtype='object')\n",
      "        total_cases      new_cases   total_deaths    new_deaths  \\\n",
      "count  2.224200e+04   22242.000000   22242.000000  22242.000000   \n",
      "mean   2.241091e+04     603.003507    1451.169229     35.492582   \n",
      "std    2.281304e+05    5337.678932   14911.679802    331.998436   \n",
      "min    0.000000e+00   -2461.000000       0.000000  -1918.000000   \n",
      "25%    8.000000e+00       0.000000       0.000000      0.000000   \n",
      "50%    1.240000e+02       2.000000       2.000000      0.000000   \n",
      "75%    1.616000e+03      52.000000      36.000000      1.000000   \n",
      "max    6.706002e+06  127796.000000  394713.000000  10520.000000   \n",
      "\n",
      "       total_cases_per_million  new_cases_per_million  \\\n",
      "count             21851.000000           21851.000000   \n",
      "mean                604.314889              14.045901   \n",
      "std                1668.328426              63.566397   \n",
      "min                   0.000000            -265.189000   \n",
      "25%                   1.261000               0.000000   \n",
      "50%                  45.023000               0.335000   \n",
      "75%                 317.964000               6.620500   \n",
      "max               22732.952000            4944.376000   \n",
      "\n",
      "       total_deaths_per_million  new_deaths_per_million   total_tests  \\\n",
      "count              21851.000000            21851.000000  5.891000e+03   \n",
      "mean                  26.092687                0.555223  2.884391e+05   \n",
      "std                  100.775837                3.407778  1.057062e+06   \n",
      "min                    0.000000              -41.023000  1.000000e+00   \n",
      "25%                    0.000000                0.000000  1.149000e+04   \n",
      "50%                    0.357000                0.000000  5.541500e+04   \n",
      "75%                    6.384500                0.075500  1.972225e+05   \n",
      "max                 1237.551000              200.040000  1.981124e+07   \n",
      "\n",
      "          new_tests  ...  aged_65_older  aged_70_older  gdp_per_capita  \\\n",
      "count  5.260000e+03  ...   19911.000000   20085.000000    19979.000000   \n",
      "mean   9.820032e+03  ...       9.793546       6.231203    22834.576925   \n",
      "std    4.115716e+04  ...       6.452851       4.428638    21233.756669   \n",
      "min    1.000000e+00  ...       1.144000       0.526000      661.240000   \n",
      "25%    6.365000e+02  ...       3.941000       2.322000     6426.674000   \n",
      "50%    2.102000e+03  ...       7.646000       4.718000    15663.986000   \n",
      "75%    6.765250e+03  ...      15.322000       9.829000    35220.084000   \n",
      "max    1.318362e+06  ...      27.049000      18.493000   116935.600000   \n",
      "\n",
      "       extreme_poverty  cvd_death_rate  diabetes_prevalence  female_smokers  \\\n",
      "count     13276.000000    20100.000000         20847.000000    16279.000000   \n",
      "mean         10.411088      246.111718             8.013285       11.247890   \n",
      "std          17.814363      118.807985             4.044321       10.561422   \n",
      "min           0.100000       79.370000             0.990000        0.100000   \n",
      "25%           0.500000      151.089000             5.310000        1.900000   \n",
      "50%           1.500000      233.070000             7.110000        7.000000   \n",
      "75%          10.100000      317.840000            10.080000       19.800000   \n",
      "max          77.600000      724.417000            23.360000       44.000000   \n",
      "\n",
      "       male_smokers  handwashing_facilities  hospital_beds_per_thousand  \n",
      "count  16099.000000             8871.000000                18484.000000  \n",
      "mean      32.638491               54.856934                    3.211610  \n",
      "std       13.238271               31.064243                    2.598415  \n",
      "min        7.700000                1.188000                    0.100000  \n",
      "25%       21.400000               24.097000                    1.400000  \n",
      "50%       31.400000               59.607000                    2.600000  \n",
      "75%       40.800000               83.841000                    4.210000  \n",
      "max       78.100000               98.999000                   13.800000  \n",
      "\n",
      "[8 rows x 28 columns]\n",
      "(22242, 33)\n"
     ]
    }
   ],
   "source": [
    "df1=pd.read_csv(filename)\n",
    "print(df1.columns)\n",
    "print(df1.describe())\n",
    "print(df1.shape)\n"
   ]
  },
  {
   "cell_type": "markdown",
   "metadata": {},
   "source": [
    "therefore, there are various attributes that are present in the dataframe .The data has 22242 rows and 33 columns so far now.."
   ]
  },
  {
   "cell_type": "markdown",
   "metadata": {},
   "source": [
    "# Preprocessing"
   ]
  },
  {
   "cell_type": "code",
   "execution_count": 10,
   "metadata": {},
   "outputs": [
    {
     "name": "stdout",
     "output_type": "stream",
     "text": [
      "iso_code                              64\n",
      "continent                            223\n",
      "location                               0\n",
      "date                                   0\n",
      "total_cases                            0\n",
      "new_cases                              0\n",
      "total_deaths                           0\n",
      "new_deaths                             0\n",
      "total_cases_per_million              391\n",
      "new_cases_per_million                391\n",
      "total_deaths_per_million             391\n",
      "new_deaths_per_million               391\n",
      "total_tests                        16351\n",
      "new_tests                          16982\n",
      "total_tests_per_thousand           16351\n",
      "new_tests_per_thousand             16982\n",
      "new_tests_smoothed                 15753\n",
      "new_tests_smoothed_per_thousand    15753\n",
      "tests_units                        15155\n",
      "stringency_index                    4510\n",
      "population                            64\n",
      "population_density                   923\n",
      "median_age                          2055\n",
      "aged_65_older                       2331\n",
      "aged_70_older                       2157\n",
      "gdp_per_capita                      2263\n",
      "extreme_poverty                     8966\n",
      "cvd_death_rate                      2142\n",
      "diabetes_prevalence                 1395\n",
      "female_smokers                      5963\n",
      "male_smokers                        6143\n",
      "handwashing_facilities             13371\n",
      "hospital_beds_per_thousand          3758\n",
      "dtype: int64\n"
     ]
    }
   ],
   "source": [
    "#lets us check for missing values in the dataset\n",
    "print(df1.isnull().sum())\n"
   ]
  },
  {
   "cell_type": "code",
   "execution_count": 12,
   "metadata": {},
   "outputs": [
    {
     "name": "stdout",
     "output_type": "stream",
     "text": [
      "iso_code                            object\n",
      "continent                           object\n",
      "location                            object\n",
      "date                                object\n",
      "total_cases                          int64\n",
      "new_cases                            int64\n",
      "total_deaths                         int64\n",
      "new_deaths                           int64\n",
      "total_cases_per_million            float64\n",
      "new_cases_per_million              float64\n",
      "total_deaths_per_million           float64\n",
      "new_deaths_per_million             float64\n",
      "total_tests                        float64\n",
      "new_tests                          float64\n",
      "total_tests_per_thousand           float64\n",
      "new_tests_per_thousand             float64\n",
      "new_tests_smoothed                 float64\n",
      "new_tests_smoothed_per_thousand    float64\n",
      "tests_units                         object\n",
      "stringency_index                   float64\n",
      "population                         float64\n",
      "population_density                 float64\n",
      "median_age                         float64\n",
      "aged_65_older                      float64\n",
      "aged_70_older                      float64\n",
      "gdp_per_capita                     float64\n",
      "extreme_poverty                    float64\n",
      "cvd_death_rate                     float64\n",
      "diabetes_prevalence                float64\n",
      "female_smokers                     float64\n",
      "male_smokers                       float64\n",
      "handwashing_facilities             float64\n",
      "hospital_beds_per_thousand         float64\n",
      "dtype: object\n"
     ]
    }
   ],
   "source": [
    "#\n",
    "print(df1.dtypes)"
   ]
  },
  {
   "cell_type": "markdown",
   "metadata": {},
   "source": [
    "Replacing the null values as 0"
   ]
  },
  {
   "cell_type": "code",
   "execution_count": 15,
   "metadata": {},
   "outputs": [
    {
     "name": "stdout",
     "output_type": "stream",
     "text": [
      "None\n",
      "iso_code                           0\n",
      "continent                          0\n",
      "location                           0\n",
      "date                               0\n",
      "total_cases                        0\n",
      "new_cases                          0\n",
      "total_deaths                       0\n",
      "new_deaths                         0\n",
      "total_cases_per_million            0\n",
      "new_cases_per_million              0\n",
      "total_deaths_per_million           0\n",
      "new_deaths_per_million             0\n",
      "total_tests                        0\n",
      "new_tests                          0\n",
      "total_tests_per_thousand           0\n",
      "new_tests_per_thousand             0\n",
      "new_tests_smoothed                 0\n",
      "new_tests_smoothed_per_thousand    0\n",
      "tests_units                        0\n",
      "stringency_index                   0\n",
      "population                         0\n",
      "population_density                 0\n",
      "median_age                         0\n",
      "aged_65_older                      0\n",
      "aged_70_older                      0\n",
      "gdp_per_capita                     0\n",
      "extreme_poverty                    0\n",
      "cvd_death_rate                     0\n",
      "diabetes_prevalence                0\n",
      "female_smokers                     0\n",
      "male_smokers                       0\n",
      "handwashing_facilities             0\n",
      "hospital_beds_per_thousand         0\n",
      "dtype: int64\n"
     ]
    }
   ],
   "source": [
    "print(df1.fillna(0,inplace=True))\n",
    "print(df1.isnull().sum())"
   ]
  },
  {
   "cell_type": "markdown",
   "metadata": {},
   "source": [
    "Let us visualize the situation in the top ten countries with the most number of cases of covid-19"
   ]
  },
  {
   "cell_type": "code",
   "execution_count": 22,
   "metadata": {},
   "outputs": [
    {
     "name": "stdout",
     "output_type": "stream",
     "text": [
      "location\n",
      "World                              6706002\n",
      "United States                      1897838\n",
      "Brazil                              614941\n",
      "Russia                              449834\n",
      "United Kingdom                      283311\n",
      "                                    ...   \n",
      "British Virgin Islands                   8\n",
      "Bonaire Sint Eustatius and Saba          7\n",
      "Lesotho                                  4\n",
      "Anguilla                                 3\n",
      "Hong Kong                                0\n",
      "Name: new_cases, Length: 212, dtype: int64\n"
     ]
    }
   ],
   "source": [
    "totalcases=df1.groupby('location')['new_cases'].sum()\n",
    "totalcases=totalcases.sort_values(ascending=False)\n",
    "print(totalcases)"
   ]
  },
  {
   "cell_type": "markdown",
   "metadata": {},
   "source": [
    "top most affected countries"
   ]
  },
  {
   "cell_type": "code",
   "execution_count": 21,
   "metadata": {},
   "outputs": [
    {
     "name": "stdout",
     "output_type": "stream",
     "text": [
      "Index(['United States', 'Brazil', 'Russia', 'United Kingdom', 'Spain', 'India',\n",
      "       'Italy', 'Peru', 'Germany', 'Turkey'],\n",
      "      dtype='object', name='location')\n"
     ]
    }
   ],
   "source": [
    "most_affected_countries=totalcases[1:11].index\n",
    "print(most_affected_countries)"
   ]
  },
  {
   "cell_type": "code",
   "execution_count": 25,
   "metadata": {},
   "outputs": [
    {
     "name": "stdout",
     "output_type": "stream",
     "text": [
      "location\n",
      "Afghanistan          309\n",
      "Albania               33\n",
      "Algeria              690\n",
      "Andorra               51\n",
      "Angola                 4\n",
      "                   ...  \n",
      "Western Sahara         1\n",
      "World             394713\n",
      "Yemen                111\n",
      "Zambia                 7\n",
      "Zimbabwe               4\n",
      "Name: new_deaths, Length: 212, dtype: int64\n",
      "[109143  34021   5528  40261  27134   6642  33774   5162   8646   4648]\n"
     ]
    }
   ],
   "source": [
    "#no of cases in top 10 countries\n",
    "cases=totalcases[1:11].values   \n",
    "totaldeaths=df1.groupby('location')['new_deaths'].sum()\n",
    "print(totaldeaths)\n",
    "#no of deaths in top 10 countries\n",
    "deaths=totaldeaths[most_affected_countries].values\n",
    "print(deaths)\n",
    "\n"
   ]
  },
  {
   "cell_type": "code",
   "execution_count": 26,
   "metadata": {},
   "outputs": [
    {
     "name": "stdout",
     "output_type": "stream",
     "text": [
      "          Country  Total Case  Total Deaths\n",
      "0   United States     1897838        109143\n",
      "1          Brazil      614941         34021\n",
      "2          Russia      449834          5528\n",
      "3  United Kingdom      283311         40261\n",
      "4           Spain      240978         27134\n",
      "5           India      236657          6642\n",
      "6           Italy      234531         33774\n",
      "7            Peru      187400          5162\n",
      "8         Germany      183678          8646\n",
      "9          Turkey      168340          4648\n"
     ]
    }
   ],
   "source": [
    "death_cases_df=pd.DataFrame({'Country':most_affected_countries,'Total Case':cases,'Total Deaths':deaths})\n",
    "print(death_cases_df)"
   ]
  },
  {
   "cell_type": "markdown",
   "metadata": {},
   "source": [
    "# EDA"
   ]
  },
  {
   "cell_type": "code",
   "execution_count": 34,
   "metadata": {},
   "outputs": [
    {
     "data": {
      "image/png": "[encoded data removed]",
      "text/plain": [
       "<Figure size 720x360 with 1 Axes>"
      ]
     },
     "metadata": {
      "needs_background": "light"
     },
     "output_type": "display_data"
    }
   ],
   "source": [
    "import matplotlib.pyplot as plt\n",
    "dataplot=pd.melt(death_cases_df,id_vars=['Country'],value_vars=['Total Case','Total Deaths'],var_name='Metric',value_name='Case Count')\n",
    "plt.figure(figsize=(10,5))\n",
    "sns.barplot(x=\"Country\",hue=\"Metric\",y=\"Case Count\",data=dataplot)\n",
    "plt.title('Most Affected top10 countries')\n",
    "plt.show()"
   ]
  },
  {
   "cell_type": "markdown",
   "metadata": {},
   "source": [
    "Through the above visualization it is evident that the United States is by far the most affected country with over a million\n",
    "total cases...while Russia has the third highest number of cases,and also has a lower death count when compare to United kingdom and spain.."
   ]
  },
  {
   "cell_type": "markdown",
   "metadata": {},
   "source": [
    "# Countrywise-Testing rate "
   ]
  },
  {
   "cell_type": "code",
   "execution_count": 35,
   "metadata": {},
   "outputs": [
    {
     "data": {
      "image/png": "[encoded data removed]",
      "text/plain": [
       "<Figure size 720x360 with 1 Axes>"
      ]
     },
     "metadata": {
      "needs_background": "light"
     },
     "output_type": "display_data"
    }
   ],
   "source": [
    "total_test=df1.groupby('location')['new_tests'].sum().values\n",
    "#print(total_test)\n",
    "\n",
    "population=df1.groupby('location')['population'].nth(-1)\n",
    "#print(population)\n",
    "\n",
    "testing_rate=(total_test/population).sort_values(ascending=False)[:10]\n",
    "#print(testing_rate)\n",
    "plt.figure(figsize=(10,5))\n",
    "sns.set_color_codes(\"pastel\")\n",
    "sns.barplot(y=testing_rate.index,x=testing_rate.values,orient=\"h\",color=\"b\")\n",
    "plt.title('Testing Rate for top 10 countries')\n",
    "plt.xlabel('testing rate')\n",
    "plt.ylabel('Country')\n",
    "plt.show()\n"
   ]
  },
  {
   "cell_type": "markdown",
   "metadata": {},
   "source": [
    "iceland is the country ,testing most with more tha 0.17% of the population tested"
   ]
  },
  {
   "cell_type": "code",
   "execution_count": 36,
   "metadata": {},
   "outputs": [
    {
     "name": "stdout",
     "output_type": "stream",
     "text": [
      "           date  total_cases_x  total_cases_y\n",
      "0    2019-12-31              0              0\n",
      "1    2020-01-01              0              0\n",
      "2    2020-01-02              0              0\n",
      "3    2020-01-03              0              0\n",
      "4    2020-01-04              0              0\n",
      "..          ...            ...            ...\n",
      "153  2020-06-02         198706         233197\n",
      "154  2020-06-03         207615         233515\n",
      "155  2020-06-04         216919         233836\n",
      "156  2020-06-05         226770         234013\n",
      "157  2020-06-06         236657         234531\n",
      "\n",
      "[158 rows x 3 columns]\n"
     ]
    },
    {
     "data": {
      "image/png": "[encoded data removed]",
      "text/plain": [
       "<Figure size 936x504 with 1 Axes>"
      ]
     },
     "metadata": {
      "needs_background": "light"
     },
     "output_type": "display_data"
    }
   ],
   "source": [
    "#rate of increase of coronavirus disease\n",
    "country1='India'\n",
    "country1data=df1.loc[df1['location']==country1]\n",
    "country1cases=country1data[['date','total_cases']]\n",
    "\n",
    "country2='Italy'\n",
    "country2data=df1.loc[df1['location']==country2]\n",
    "country2cases=country2data[['date','total_cases']]\n",
    "\n",
    "date_wise_cases=country1cases.merge(country2cases,how='inner',on='date')\n",
    "print(date_wise_cases)\n",
    "plt.figure(figsize=(13,7))\n",
    "plt.plot(date_wise_cases['date'].values,date_wise_cases['total_cases_x'].values,color='blue',label='country1')\n",
    "plt.plot(date_wise_cases['date'].values,date_wise_cases['total_cases_y'].values,color='red',label='country2')\n",
    "plt.xticks([date_wise_cases['date'][i] if i%10==0 else '' for i in range (len(date_wise_cases.index))],rotation=45)\n",
    "plt.xlabel('Date')\n",
    "plt.ylabel('Total Number of Cases')\n",
    "plt.title('Rate of Corona virus')\n",
    "plt.legend()\n",
    "plt.show()\n"
   ]
  },
  {
   "cell_type": "markdown",
   "metadata": {},
   "source": [
    " calculating the degree of correlation between features and total no of cases to see if there is any correlation effect.\n",
    "A degree of correlation indicates how a change in one variable affects another variable and can be postive or negative .\n",
    "if the features are population density,median age,diabetes prevalence,stringency index,cardiovascular death rates and population aged 70 or older of a country ,have any correlation to the total number of cases in the country\n",
    "\n",
    "The features for the respective countries are extracted using the groupby function and nth or mean functions .The nth function returns the nth value of the group,-1 indicated the last value."
   ]
  },
  {
   "cell_type": "code",
   "execution_count": 38,
   "metadata": {},
   "outputs": [
    {
     "name": "stdout",
     "output_type": "stream",
     "text": [
      "          Country  Total Cases  Population Density  Median Age  \\\n",
      "0   United States      1897838              35.608        38.3   \n",
      "1          Brazil       614941              25.040        33.5   \n",
      "2          Russia       449834               8.823        39.6   \n",
      "3  United Kingdom       283311             272.898        40.8   \n",
      "4           Spain       240978              93.105        45.5   \n",
      "\n",
      "   Diabetes Prevelance  Stringency Index  Cardiovascular Death Rate  \\\n",
      "0                10.79         39.619748                    151.089   \n",
      "1                 8.11         39.041635                    177.961   \n",
      "2                 6.18         39.453774                    431.297   \n",
      "3                 4.28         37.457547                    122.137   \n",
      "4                 7.17         44.462658                     99.403   \n",
      "\n",
      "   Aged 70 or older   \n",
      "0              9.732  \n",
      "1              5.060  \n",
      "2              9.393  \n",
      "3             12.527  \n",
      "4             13.799  \n"
     ]
    }
   ],
   "source": [
    "#Degree of correlation between cases and various factors\n",
    "df_corr=pd.DataFrame(most_affected_countries.values,columns=['Country'])\n",
    "df_corr['Total Cases']=cases\n",
    "\n",
    "populationdensity=df1.groupby('location')['population_density'].nth(-1)\n",
    "df_corr['Population Density']=populationdensity[most_affected_countries].values\n",
    "\n",
    "median_age=df1.groupby('location')['median_age'].nth(-1)\n",
    "df_corr['Median Age']=median_age[most_affected_countries].values\n",
    "\n",
    "\n",
    "\n",
    "diabetes_prevalence=df1.groupby('location')['diabetes_prevalence'].nth(-1)\n",
    "df_corr['Diabetes Prevelance']=diabetes_prevalence[most_affected_countries].values\n",
    "\n",
    "stringency_index=df1.groupby('location')['stringency_index'].mean()\n",
    "df_corr['Stringency Index']=stringency_index[most_affected_countries].values\n",
    "\n",
    "\n",
    "cvd_death_rate=df1.groupby('location')['cvd_death_rate'].nth(-1)\n",
    "df_corr['Cardiovascular Death Rate']=cvd_death_rate[most_affected_countries].values\n",
    "\n",
    "\n",
    "aged_70_older=df1.groupby('location')['aged_70_older'].nth(-1)\n",
    "df_corr['Aged 70 or older ']=aged_70_older[most_affected_countries].values\n",
    "\n",
    "print(df_corr.head())\n",
    "\n",
    "\n",
    "\n",
    "\n"
   ]
  },
  {
   "cell_type": "markdown",
   "metadata": {},
   "source": [
    "The best way to visualize correlation values is a heat map using heatmap function"
   ]
  },
  {
   "cell_type": "code",
   "execution_count": 39,
   "metadata": {},
   "outputs": [
    {
     "data": {
      "image/png": "[encoded data removed]",
      "text/plain": [
       "<Figure size 432x288 with 2 Axes>"
      ]
     },
     "metadata": {
      "needs_background": "light"
     },
     "output_type": "display_data"
    }
   ],
   "source": [
    "heatmap_df=pd.DataFrame({'Correlation Values':df_corr.corr()['Total Cases'].values},index=df_corr.corr()['Total Cases'].index)\n",
    "sns.heatmap(heatmap_df,annot=True)\n",
    "plt.show()\n"
   ]
  },
  {
   "cell_type": "markdown",
   "metadata": {},
   "source": [
    "Hence,we see that most attributes have negative correlations with the total number of cases while one attribute has a positive correlation.The total number of cases obviously has direct correlation value of 1 itself.However,none of the correlation values are high correlation values which are usually greater than 0.6 or less than -0.6 .Perhaps,this goes to show how devastatingly widespread the effects of this  disease "
   ]
  }
 ],
 "metadata": {
  "kernelspec": {
   "display_name": "Python 3",
   "language": "python",
   "name": "python3"
  },
  "language_info": {
   "codemirror_mode": {
    "name": "ipython",
    "version": 3
   },
   "file_extension": ".py",
   "mimetype": "text/x-python",
   "name": "python",
   "nbconvert_exporter": "python",
   "pygments_lexer": "ipython3",
   "version": "3.7.6"
  }
 },
 "nbformat": 4,
 "nbformat_minor": 4
}
